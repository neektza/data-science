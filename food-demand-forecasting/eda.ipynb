{
 "cells": [
  {
   "cell_type": "code",
   "execution_count": null,
   "metadata": {},
   "outputs": [],
   "source": [
    "%pip install numpy matplotlib scipy pandas seaborn scikit-learn statsmodels feature-engine"
   ]
  },
  {
   "cell_type": "code",
   "execution_count": null,
   "metadata": {},
   "outputs": [],
   "source": [
    "import pandas as pd\n",
    "import seaborn as sns\n",
    "import matplotlib.pyplot as plt\n",
    "from darts import TimeSeries"
   ]
  },
  {
   "cell_type": "code",
   "execution_count": null,
   "metadata": {},
   "outputs": [],
   "source": [
    "# Read the CSV file into a DataFrame\n",
    "train_df = pd.read_csv('./data/train.csv')\n",
    "meal_info_df = pd.read_csv('./data/meal_info.csv')\n",
    "fc_info_df = pd.read_csv('./data/fulfilment_center_info.csv')"
   ]
  },
  {
   "cell_type": "code",
   "execution_count": null,
   "metadata": {},
   "outputs": [],
   "source": [
    "print(f'MEAL SHAPE={meal_info_df.shape}')\n",
    "print(f'FC SHAPE={fc_info_df.shape}')"
   ]
  },
  {
   "cell_type": "code",
   "execution_count": null,
   "metadata": {},
   "outputs": [],
   "source": [
    "grouped_counts = train_df.groupby(['week', 'center_id', 'meal_id']).size().reset_index(name='count')\n",
    "\n",
    "print((grouped_counts['count'] > 1).any())\n",
    "\n",
    "print(grouped_counts)"
   ]
  },
  {
   "cell_type": "code",
   "execution_count": null,
   "metadata": {},
   "outputs": [],
   "source": [
    "# Group by center_id and meal_id\n",
    "unq_weeks = train_df.groupby(['center_id', 'meal_id'])['week'].unique()\n",
    "\n",
    "# Find gaps for each group\n",
    "gaps_by_group = {}\n",
    "for (center_id, meal_id), weeks in unq_weeks.items():\n",
    "    group_range = set(range(min(weeks), max(weeks) + 1))\n",
    "    group_gaps = sorted(group_range - set(weeks))\n",
    "    if group_gaps:\n",
    "        gaps_by_group[(center_id, meal_id)] = group_gaps\n",
    "\n",
    "\n",
    "# Print gaps by group with count\n",
    "for (center_id, meal_id), gaps in gaps_by_group.items():\n",
    "    print(f\"Center ID: {center_id}, Meal ID: {meal_id}, Number of gaps: {len(gaps)}\")"
   ]
  },
  {
   "cell_type": "code",
   "execution_count": null,
   "metadata": {},
   "outputs": [],
   "source": [
    "selected_df = train_df[['num_orders', 'base_price', 'checkout_price', 'emailer_for_promotion', 'homepage_featured']]\n",
    "\n",
    "plt.figure(figsize=(8, 8))\n",
    "sns.heatmap(selected_df.corr(), annot=True, cmap='coolwarm', vmin=-1, vmax=1, center=0)\n",
    "\n",
    "plt.title('Correlation Heatmap')\n",
    "plt.tight_layout()\n",
    "plt.show()"
   ]
  },
  {
   "cell_type": "code",
   "execution_count": null,
   "metadata": {},
   "outputs": [],
   "source": [
    "# Join meal_info_df with train dataframe\n",
    "train_with_meal = train_df.merge(meal_info_df, on='meal_id', how='left')\n",
    "\n",
    "# Group num_orders by cuisine\n",
    "cuisine_orders = train_with_meal.groupby('cuisine').agg({'num_orders': 'sum'}).reset_index().sort_values('num_orders', ascending=False)\n",
    "\n",
    "# Create bar chart\n",
    "plt.figure(figsize=(12, 8))\n",
    "sns.barplot(data=cuisine_orders, x='cuisine', y='num_orders')\n",
    "plt.title('Number of Orders by Cuisine')\n",
    "plt.xlabel('Cuisine')\n",
    "plt.ylabel('Number of Orders')\n",
    "plt.tight_layout()\n",
    "plt.show()"
   ]
  },
  {
   "cell_type": "code",
   "execution_count": null,
   "metadata": {},
   "outputs": [],
   "source": [
    "plt.figure(figsize=(10, 6))\n",
    "plt.scatter(train_df['checkout_price'], train_df['num_orders'], alpha=0.5)\n",
    "plt.xlabel('Checkout Price')\n",
    "plt.ylabel('Number of Orders')\n",
    "plt.title('Scatter Plot: Number of Orders vs Checkout Price')\n",
    "plt.grid(True)"
   ]
  },
  {
   "cell_type": "code",
   "execution_count": null,
   "metadata": {},
   "outputs": [],
   "source": [
    "# Group data by week and sum the number of orders\n",
    "weekly_orders = train_df.groupby('week')['num_orders'].sum().reset_index()\n",
    "\n",
    "# Create the line plot\n",
    "plt.figure(figsize=(12, 6))\n",
    "plt.plot(weekly_orders['week'], weekly_orders['num_orders'], marker='o')\n",
    "\n",
    "# Customize the plot\n",
    "plt.title('Number of Orders per Week')\n",
    "plt.xlabel('Week')\n",
    "plt.ylabel('Number of Orders')\n",
    "plt.grid(True, linestyle='--', alpha=0.7)\n",
    "\n",
    "# Rotate x-axis labels for better readability\n",
    "plt.xticks(rotation=45)\n",
    "\n",
    "# Show the plot\n",
    "plt.tight_layout()\n",
    "plt.show()\n"
   ]
  },
  {
   "cell_type": "code",
   "execution_count": null,
   "metadata": {},
   "outputs": [],
   "source": [
    "random_combination = train_df[['meal_id', 'center_id']].drop_duplicates().sample(n=1).values[0]\n",
    "random_meal_id, random_center_id = random_combination\n",
    "filtered_df = train_df[(train_df['meal_id'] == random_meal_id) & (train_df['center_id'] == random_center_id)]\n",
    "filtered_df = filtered_df.sort_values('week')\n",
    "ts = TimeSeries.from_dataframe(filtered_df, 'week', 'num_orders', freq=1, fill_missing_dates=True, fillna_value=0)"
   ]
  },
  {
   "cell_type": "code",
   "execution_count": null,
   "metadata": {},
   "outputs": [],
   "source": [
    "\n",
    "from darts import TimeSeries\n",
    "from darts.utils.statistics import check_seasonality, extract_trend_and_seasonality\n",
    "from darts.utils.utils import ModelMode, TrendMode\n",
    "\n",
    "# Check for weekly seasonality\n",
    "weekly_seasonality = check_seasonality(ts, m=4)  # 4 weeks in a month\n",
    "print(f\"Weekly seasonality: {weekly_seasonality}\")\n",
    "\n",
    "trend, seasonality = extract_trend_and_seasonality(ts, 4, model=ModelMode.ADDITIVE, method='MSTL')\n",
    "\n",
    "ts.plot(label='Data')\n",
    "trend.plot(label='Trend')\n",
    "seasonality.plot(label='Seasonality')\n"
   ]
  },
  {
   "cell_type": "code",
   "execution_count": null,
   "metadata": {},
   "outputs": [],
   "source": [
    "from darts.utils.statistics import stationarity_tests\n",
    "\n",
    "# Assuming 'df' is your DataFrame with columns 'meal_id', 'center_id', 'num_orders', and 'date'\n",
    "\n",
    "# Group by meal_id and center_id\n",
    "grouped = train_df.groupby(['meal_id', 'center_id'])\n",
    "\n",
    "stationary_count = 0\n",
    "total_count = 0\n",
    "\n",
    "for (meal_id, center_id), group in grouped:\n",
    "    # print(f'Meal ID: {meal_id}, Center ID: {center_id}')\n",
    "\n",
    "    # Create a TimeSeries object for each group\n",
    "    ts = TimeSeries.from_dataframe(group, 'week', 'num_orders', freq=1, fill_missing_dates=True, fillna_value=0)    \n",
    "    \n",
    "    # Skip this iteration if number of observations in the group is 3 or less\n",
    "    if len(group) <= 3:\n",
    "        continue\n",
    "\n",
    "    # Perform ADF test\n",
    "    stationary = stationarity_tests(ts)\n",
    "    \n",
    "    if stationary:\n",
    "        stationary_count += 1\n",
    "    total_count += 1\n",
    "\n",
    "# Calculate percentage of stationary time series\n",
    "percentage_stationary = (stationary_count / total_count) * 100\n",
    "\n",
    "print(f'Percentage of stationary time series: {percentage_stationary:.2f}%')\n"
   ]
  }
 ],
 "metadata": {
  "kernelspec": {
   "display_name": "notebooks",
   "language": "python",
   "name": "python3"
  },
  "language_info": {
   "codemirror_mode": {
    "name": "ipython",
    "version": 3
   },
   "file_extension": ".py",
   "mimetype": "text/x-python",
   "name": "python",
   "nbconvert_exporter": "python",
   "pygments_lexer": "ipython3",
   "version": "3.12.4"
  }
 },
 "nbformat": 4,
 "nbformat_minor": 2
}
