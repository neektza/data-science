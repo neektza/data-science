{
 "cells": [
  {
   "cell_type": "code",
   "execution_count": null,
   "metadata": {},
   "outputs": [],
   "source": [
    "import pandas as pd\n",
    "import matplotlib.pyplot as plt\n",
    "import os"
   ]
  },
  {
   "cell_type": "code",
   "execution_count": null,
   "metadata": {},
   "outputs": [],
   "source": [
    "# Read the CSV file into a DataFrame\n",
    "train_df = pd.read_csv('./data/train.csv')\n",
    "meal_info_df = pd.read_csv('./data/meal_info.csv')\n",
    "fc_info_df = pd.read_csv('./data/fulfilment_center_info.csv')"
   ]
  },
  {
   "cell_type": "code",
   "execution_count": null,
   "metadata": {},
   "outputs": [],
   "source": [
    "# Group by center_id and count the number of orders\n",
    "grouped_orders_fcs = train_df.groupby(['week', 'center_id']).agg({'num_orders': 'sum'}).reset_index().sort_values(['week', 'center_id'])\n",
    "\n",
    "# Iterate over each center_id\n",
    "for (center_id,), group in grouped_orders_fcs.groupby(['center_id']):\n",
    "    plt.figure(figsize=(12, 6))\n",
    "    plt.plot(group['week'], group['num_orders'])\n",
    "    plt.title(f'Number of Orders by Week for Center {center_id}')\n",
    "    plt.xlabel('Week')\n",
    "    plt.ylabel('Number of Orders')\n",
    "    plt.grid(True)\n",
    "    \n",
    "    if not os.path.exists(f'plots/fcs/'):\n",
    "        os.makedirs(f'plots/fcs/')\n",
    "\n",
    "    # Save the plot\n",
    "    plt.savefig(f'plots/fcs/fc_{center_id}_orders.png')\n",
    "    plt.close()  # Close the figure to free up memory\n",
    "\n",
    "print(f\"Plots have been saved in the 'plots/fcs' directory.\")"
   ]
  },
  {
   "cell_type": "code",
   "execution_count": null,
   "metadata": {},
   "outputs": [],
   "source": [
    "# Group by meal_id and count the number of orders\n",
    "grouped_orders_meals = train_df.groupby(['week', 'meal_id']).agg({'num_orders': 'sum'}).reset_index().sort_values(['week', 'meal_id'])\n",
    "\n",
    "# Iterate over meal_id\n",
    "for (meal_id,), group in grouped_orders_meals.groupby(['meal_id']):\n",
    "    plt.figure(figsize=(12, 6))\n",
    "    plt.plot(group['week'], group['num_orders'])\n",
    "    plt.title(f'Number of Orders by Week for Meal {meal_id}')\n",
    "    plt.xlabel('Week')\n",
    "    plt.ylabel('Number of Orders')\n",
    "    plt.grid(True)\n",
    "    \n",
    "    if not os.path.exists(f'plots/meals/'):\n",
    "        os.makedirs(f'plots/meals/')\n",
    "\n",
    "    # Save the plot\n",
    "    plt.savefig(f'plots/meals/meal_{meal_id}_orders.png')\n",
    "    plt.close()  # Close the figure to free up memory\n",
    "\n",
    "print(f\"Plots have been saved in the 'plots/meals' directory.\")"
   ]
  },
  {
   "cell_type": "code",
   "execution_count": null,
   "metadata": {},
   "outputs": [],
   "source": [
    "# Group by meal_id and center_id, and count the number of orders\n",
    "grouped_orders = train_df.groupby(['week', 'center_id', 'meal_id']).agg({'num_orders': 'sum'}).reset_index().sort_values(['week', 'center_id', 'meal_id'])\n",
    "\n",
    "# Iterate over each unique combination of center_id and meal_id\n",
    "for (center_id, meal_id), group in grouped_orders.groupby(['center_id', 'meal_id']):\n",
    "    plt.figure(figsize=(12, 6))\n",
    "    plt.plot(group['week'], group['num_orders'])\n",
    "    plt.title(f'Number of Orders by Week for Center {center_id}, Meal {meal_id}')\n",
    "    plt.xlabel('Week')\n",
    "    plt.ylabel('Number of Orders')\n",
    "    plt.grid(True)\n",
    "    \n",
    "    if not os.path.exists(f'plots/fcs_meals/center_{center_id}'):\n",
    "        os.makedirs(f'plots/fcs_meals/center_{center_id}')\n",
    "\n",
    "    # Save the plot\n",
    "    plt.savefig(f'plots/fcs_meals/center_{center_id}/meal_{meal_id}_orders.png')\n",
    "    plt.close()  # Close the figure to free up memory\n",
    "\n",
    "print(f\"Plots have been saved in the 'plots' directory.\")"
   ]
  }
 ],
 "metadata": {
  "language_info": {
   "name": "python"
  }
 },
 "nbformat": 4,
 "nbformat_minor": 2
}
